{
 "cells": [
  {
   "cell_type": "markdown",
   "metadata": {},
   "source": [
    "## os.path.exists, os.remove, os.mkdir, os.rmdir, os.path.dirname, os.system, os.path.abspath, os.path.getsize, os.path.basename, os.path.isdir, os.path.split, os.path.splitdrive, os.path.join, os.walk, glob.glob"
   ]
  },
  {
   "cell_type": "code",
   "execution_count": 1,
   "metadata": {},
   "outputs": [
    {
     "name": "stdout",
     "output_type": "stream",
     "text": [
      "myFile.txt檔案未成立!\n"
     ]
    }
   ],
   "source": [
    "import os\n",
    "file=\"myFile.txt\"\n",
    "if os.path.exists(file):\n",
    "    os.remove(file)\n",
    "else:\n",
    "    print(file+\"檔案未成立!\")"
   ]
  },
  {
   "cell_type": "code",
   "execution_count": 2,
   "metadata": {},
   "outputs": [],
   "source": [
    "import os\n",
    "os.mkdir(\"myDir\")"
   ]
  },
  {
   "cell_type": "code",
   "execution_count": 3,
   "metadata": {},
   "outputs": [],
   "source": [
    "import os\n",
    "dir=\"myDir\"\n",
    "if os.path.exists(dir):\n",
    "    os.rmdir(dir)\n",
    "else:\n",
    "    print(dir+\"目錄未建立!\")"
   ]
  },
  {
   "cell_type": "code",
   "execution_count": 7,
   "metadata": {},
   "outputs": [
    {
     "data": {
      "text/plain": [
       "'http://localhost:8888/notebooks'"
      ]
     },
     "execution_count": 7,
     "metadata": {},
     "output_type": "execute_result"
    }
   ],
   "source": [
    "import os\n",
    "cur_path=os.path.dirname(\"http://localhost:8888/notebooks/資料處理.ipynb\")\n",
    "cur_path"
   ]
  },
  {
   "cell_type": "code",
   "execution_count": 16,
   "metadata": {},
   "outputs": [
    {
     "name": "stdout",
     "output_type": "stream",
     "text": [
      "http://localhost:8888/notebooks\n"
     ]
    }
   ],
   "source": [
    "import os\n",
    "cur_path=os.path.dirname(\"http://localhost:8888/notebooks/資料處理.ipynb\")             #取得目前路徑\n",
    "os.system(\"cls\")       #清除螢幕\n",
    "os.system(\"mkdir dir2\")       #建立dir2目錄\n",
    "os.system(\"copy ossystem.py dir2\\copyfile.py\") #複製檔案\n",
    "file=cur_path+\"\\dir2\\copyfile.py\"\n",
    "os.system(\"notepad\"+file)      #以記事本開啟檔案\n",
    "print(cur_path)"
   ]
  },
  {
   "cell_type": "code",
   "execution_count": 9,
   "metadata": {},
   "outputs": [
    {
     "data": {
      "text/plain": [
       "'C:\\\\python學習\\\\資料科學學習手冊\\\\基本應用\\\\0816test.ipynb'"
      ]
     },
     "execution_count": 9,
     "metadata": {},
     "output_type": "execute_result"
    }
   ],
   "source": [
    "filename=os.path.abspath(\"0816test.ipynb\")\n",
    "filename"
   ]
  },
  {
   "cell_type": "code",
   "execution_count": 11,
   "metadata": {},
   "outputs": [
    {
     "name": "stdout",
     "output_type": "stream",
     "text": [
      "完整路徑名稱:C:\\python學習\\資料科學學習手冊\\基本應用\\0816test.ipynb\n",
      "檔案大小: <function getsize at 0x000001E4B17C4488>\n"
     ]
    }
   ],
   "source": [
    "filename=os.path.abspath(\"0816test.ipynb\")\n",
    "filename\n",
    "if os.path.exists(filename):\n",
    "    print(\"完整路徑名稱:\"+filename)\n",
    "    print(\"檔案大小:\",os.path.getsize)"
   ]
  },
  {
   "cell_type": "code",
   "execution_count": 12,
   "metadata": {},
   "outputs": [
    {
     "name": "stdout",
     "output_type": "stream",
     "text": [
      "完整路徑名稱:C:\\python學習\\資料科學學習手冊\\基本應用\\0816test.ipynb\n",
      "檔案大小: <function getsize at 0x000001E4B17C4488>\n",
      "最後的檔案或路徑名稱:0816test.ipynb\n",
      "目前檔案路徑:C:\\python學習\\資料科學學習手冊\\基本應用\n",
      "是否為目錄: False\n",
      "目前路徑:C:\\python學習\\資料科學學習手冊\\基本應用\n",
      "檔名:0816test.ipynb\n",
      "磁碟機:C:\n",
      "路徑名稱:\\python學習\\資料科學學習手冊\\基本應用\\0816test.ipynb\n",
      "組合路徑=C:\\python學習\\資料科學學習手冊\\基本應用\\0816test.ipynb\n"
     ]
    }
   ],
   "source": [
    "filename=os.path.abspath(\"0816test.ipynb\")\n",
    "if os.path.exists(filename):\n",
    "    print(\"完整路徑名稱:\"+filename)\n",
    "    print(\"檔案大小:\",os.path.getsize)\n",
    "    \n",
    "    basename=os.path.basename(filename)\n",
    "    print(\"最後的檔案或路徑名稱:\"+basename)\n",
    "    \n",
    "    dirname=os.path.dirname(filename)\n",
    "    print(\"目前檔案路徑:\"+dirname)\n",
    "    \n",
    "    print(\"是否為目錄:\",os.path.isdir(filename))\n",
    "    \n",
    "    fullpath,fname=os.path.split(filename)\n",
    "    print(\"目前路徑:\"+fullpath)\n",
    "    print(\"檔名:\"+fname)\n",
    "    \n",
    "    Drive,fpath=os.path.splitdrive(filename)\n",
    "    print(\"磁碟機:\"+Drive)\n",
    "    print(\"路徑名稱:\"+fpath)\n",
    "    \n",
    "    fullpath=os.path.join(fullpath+\"\\\\\"+fname)\n",
    "    print(\"組合路徑=\"+fullpath)"
   ]
  },
  {
   "cell_type": "code",
   "execution_count": 14,
   "metadata": {},
   "outputs": [
    {
     "name": "stdout",
     "output_type": "stream",
     "text": [
      "檔案路徑: C:\\python學習\\資料科學學習手冊\n",
      "目錄串列; ['.ipynb_checkpoints', 'python繪圖', '__pycache__', '其他應用', '基本應用', '機器學習']\n",
      "檔案串列: []\n",
      "\n",
      "檔案路徑: C:\\python學習\\資料科學學習手冊\\.ipynb_checkpoints\n",
      "目錄串列; []\n",
      "檔案串列: ['data_preprocess-checkpoint.ipynb', 'EDA-checkpoint.ipynb', 'KM分群-checkpoint.ipynb', 'machine learning model-checkpoint.ipynb', 'num應用-checkpoint.ipynb', 'pan應用 (2)-checkpoint.ipynb', 'SVM支持向量機-checkpoint.ipynb', '主成分分析-checkpoint.ipynb', '機器學習-checkpoint.ipynb', '決策樹vs隨機森林-checkpoint.ipynb', '特徵工程-checkpoint.ipynb', '線性回歸-checkpoint.ipynb', '視覺化-checkpoint.ipynb']\n",
      "\n",
      "檔案路徑: C:\\python學習\\資料科學學習手冊\\python繪圖\n",
      "目錄串列; ['.ipynb_checkpoints']\n",
      "檔案串列: ['births.csv', 'gistemp250.nc.gz', 'marathon-data.csv', '視覺化.ipynb']\n",
      "\n",
      "檔案路徑: C:\\python學習\\資料科學學習手冊\\python繪圖\\.ipynb_checkpoints\n",
      "目錄串列; []\n",
      "檔案串列: ['三變數繪圖-checkpoint.ipynb', '兩連續變數或三個變數-checkpoint.ipynb', '兩類別變數長條圖-checkpoint.ipynb', '加上文字和註解-checkpoint.ipynb', '圖片儲存與提取-checkpoint.ipynb', '密度圖-checkpoint.ipynb', '建立圖例-checkpoint.ipynb', '直方圖-checkpoint.ipynb', '相關係數圖-checkpoint.ipynb', '視覺化-checkpoint.ipynb', '長條圖-checkpoint.ipynb', '點圖-checkpoint.ipynb']\n",
      "\n",
      "檔案路徑: C:\\python學習\\資料科學學習手冊\\__pycache__\n",
      "目錄串列; []\n",
      "檔案串列: ['numpy.cpython-36.pyc', 'numpy.cpython-37.pyc']\n",
      "\n",
      "檔案路徑: C:\\python學習\\資料科學學習手冊\\其他應用\n",
      "目錄串列; []\n",
      "檔案串列: ['以win32com套件處理word文件.py', '博客來新書排行榜.py', '米其林餐廳指南下載.py', '股票市場.py', '遊戲開發.py', '運動相簿下載.py', '電影資料網路爬蟲實作.py', '音樂播放器.py']\n",
      "\n",
      "檔案路徑: C:\\python學習\\資料科學學習手冊\\基本應用\n",
      "目錄串列; ['.ipynb_checkpoints', 'dir2']\n",
      "檔案串列: ['0816test.ipynb', 'births.csv', 'Series,DataFrame物件.ipynb', '字典,迴圈,函數,....ipynb', '建立陣列.ipynb', '爬蟲.ipynb', '讀檔方法.ipynb']\n",
      "\n",
      "檔案路徑: C:\\python學習\\資料科學學習手冊\\基本應用\\.ipynb_checkpoints\n",
      "目錄串列; []\n",
      "檔案串列: ['num應用-checkpoint.ipynb', 'pan應用 (2)-checkpoint.ipynb', 'Series,DataFrame取資料-checkpoint.ipynb', 'Series,DataFrame物件-checkpoint.ipynb', 'Series,DataFrame運算-checkpoint.ipynb', '多重索引-checkpoint.ipynb', '字典,迴圈,函數,...-checkpoint.ipynb', '建立陣列-checkpoint.ipynb', '爬蟲-checkpoint.ipynb', '結構化陣列-checkpoint.ipynb', '聚合函式-checkpoint.ipynb', '視覺化-checkpoint.ipynb', '讀檔方法-checkpoint.ipynb', '資料分組-checkpoint.ipynb', '資料合併-checkpoint.ipynb', '陣列取值,複製,修改-checkpoint.ipynb', '陣列變形,串接,分割-checkpoint.ipynb']\n",
      "\n",
      "檔案路徑: C:\\python學習\\資料科學學習手冊\\基本應用\\dir2\n",
      "目錄串列; []\n",
      "檔案串列: []\n",
      "\n",
      "檔案路徑: C:\\python學習\\資料科學學習手冊\\機器學習\n",
      "目錄串列; ['.ipynb_checkpoints', '估計連續變數', '分類模型', '特徵工程', '降維模型', '集群模型']\n",
      "檔案串列: ['FremonBridge.csv', 'KDE.ipynb', 'recipeitems-latest.json.gz']\n",
      "\n",
      "檔案路徑: C:\\python學習\\資料科學學習手冊\\機器學習\\.ipynb_checkpoints\n",
      "目錄串列; []\n",
      "檔案串列: ['LDA-checkpoint.ipynb', '主成分分析-checkpoint.ipynb', '文字變數處理-checkpoint.ipynb', '時間變數處理-checkpoint.ipynb', '最佳模型與超參數調整-checkpoint.ipynb', '流型方法-checkpoint.ipynb', '特徵工程-checkpoint.ipynb', '缺失值處理-checkpoint.ipynb', '類別變數處理-checkpoint.ipynb']\n",
      "\n",
      "檔案路徑: C:\\python學習\\資料科學學習手冊\\機器學習\\估計連續變數\n",
      "目錄串列; ['.ipynb_checkpoints']\n",
      "檔案串列: ['樹回歸.ipynb', '線性回歸.ipynb']\n",
      "\n",
      "檔案路徑: C:\\python學習\\資料科學學習手冊\\機器學習\\估計連續變數\\.ipynb_checkpoints\n",
      "目錄串列; []\n",
      "檔案串列: []\n",
      "\n",
      "檔案路徑: C:\\python學習\\資料科學學習手冊\\機器學習\\分類模型\n",
      "目錄串列; ['.ipynb_checkpoints']\n",
      "檔案串列: ['Adaline&隨機梯度下降.ipynb', 'KNN.ipynb', 'Logistic.ipynb', 'Naive Bayes Classification.ipynb', 'SVM支持向量機.ipynb', '感知器1.ipynb', '決策樹vs隨機森林.ipynb', '深度學習分類model.ipynb', '集成模型.ipynb']\n",
      "\n",
      "檔案路徑: C:\\python學習\\資料科學學習手冊\\機器學習\\分類模型\\.ipynb_checkpoints\n",
      "目錄串列; []\n",
      "檔案串列: ['Adaline&隨機梯度下降-checkpoint.ipynb', 'Catboost-checkpoint.ipynb', 'KNN-checkpoint.ipynb', 'Logistic-checkpoint.ipynb', 'Naive Bayes Classification-checkpoint.ipynb', 'SVM支持向量機-checkpoint.ipynb', '感知器1-checkpoint.ipynb', '決策樹vs隨機森林-checkpoint.ipynb', '集成模型-checkpoint.ipynb']\n",
      "\n",
      "檔案路徑: C:\\python學習\\資料科學學習手冊\\機器學習\\特徵工程\n",
      "目錄串列; ['.ipynb_checkpoints']\n",
      "檔案串列: ['文字變數處理.ipynb', '時間變數處理.ipynb', '最佳模型與超參數調整.ipynb', '特徵工程.ipynb']\n",
      "\n",
      "檔案路徑: C:\\python學習\\資料科學學習手冊\\機器學習\\特徵工程\\.ipynb_checkpoints\n",
      "目錄串列; []\n",
      "檔案串列: ['文字變數處理-checkpoint.ipynb', '特徵工程-checkpoint.ipynb']\n",
      "\n",
      "檔案路徑: C:\\python學習\\資料科學學習手冊\\機器學習\\降維模型\n",
      "目錄串列; ['.ipynb_checkpoints']\n",
      "檔案串列: ['LDA.ipynb', '主成分分析.ipynb', '流型方法.ipynb']\n",
      "\n",
      "檔案路徑: C:\\python學習\\資料科學學習手冊\\機器學習\\降維模型\\.ipynb_checkpoints\n",
      "目錄串列; []\n",
      "檔案串列: ['主成分分析-checkpoint.ipynb', '流型方法-checkpoint.ipynb']\n",
      "\n",
      "檔案路徑: C:\\python學習\\資料科學學習手冊\\機器學習\\集群模型\n",
      "目錄串列; ['.ipynb_checkpoints']\n",
      "檔案串列: ['分群.ipynb', '階層樹.ipynb']\n",
      "\n",
      "檔案路徑: C:\\python學習\\資料科學學習手冊\\機器學習\\集群模型\\.ipynb_checkpoints\n",
      "目錄串列; []\n",
      "檔案串列: ['分群-checkpoint.ipynb', '階層樹-checkpoint.ipynb', '高密度區域DBSC-checkpoint.ipynb']\n",
      "\n"
     ]
    }
   ],
   "source": [
    "import os\n",
    "cur_path=os.path.dirname(\"C:\\python學習\\資料科學學習手冊\\基本應用\\0816test.ipynb\")  \n",
    "sample_tree=os.walk(cur_path)\n",
    "for dirname,subdir,files in sample_tree:\n",
    "    print(\"檔案路徑:\",dirname)\n",
    "    print(\"目錄串列;\",subdir)\n",
    "    print(\"檔案串列:\",files)\n",
    "    print()"
   ]
  },
  {
   "cell_type": "code",
   "execution_count": 17,
   "metadata": {},
   "outputs": [
    {
     "name": "stdout",
     "output_type": "stream",
     "text": [
      "0816test.ipynb\n",
      "0817.ipynb\n",
      "Series,DataFrame物件.ipynb\n",
      "字典,迴圈,函數,....ipynb\n",
      "建立陣列.ipynb\n",
      "爬蟲.ipynb\n",
      "讀檔方法.ipynb\n"
     ]
    }
   ],
   "source": [
    "import glob\n",
    "files=glob.glob(\"glob.ipynb\")+glob.glob(\"os*.ipynb\")+glob.glob(\"*.ipynb\")\n",
    "for file in files:\n",
    "    print(file)"
   ]
  },
  {
   "cell_type": "code",
   "execution_count": 18,
   "metadata": {},
   "outputs": [
    {
     "name": "stdout",
     "output_type": "stream",
     "text": [
      "0816test.ipynb\n",
      "0817.ipynb\n",
      "Series,DataFrame物件.ipynb\n",
      "字典,迴圈,函數,....ipynb\n",
      "建立陣列.ipynb\n",
      "爬蟲.ipynb\n",
      "讀檔方法.ipynb\n"
     ]
    }
   ],
   "source": [
    "import glob\n",
    "files=glob.glob(\"*.ipynb\")\n",
    "for file in files:\n",
    "    print(file)"
   ]
  },
  {
   "cell_type": "markdown",
   "metadata": {},
   "source": [
    "## pd.read_csv, csv.reader, csv.DictReader, csv.writer, csv.DictWriter(fieldnames)"
   ]
  },
  {
   "cell_type": "markdown",
   "metadata": {},
   "source": [
    "## newline=''\""
   ]
  },
  {
   "cell_type": "code",
   "execution_count": null,
   "metadata": {},
   "outputs": [],
   "source": [
    "# 設定 data_path\n",
    "dir_data = 'C:/百日馬拉松'\n",
    "f_app = os.path.join(dir_data, 'application_train.csv')\n",
    "print('Path of read in data: %s' % (f_app))\n",
    "app_train = pd.read_csv(f_app)\n",
    "app_train.head()"
   ]
  },
  {
   "cell_type": "code",
   "execution_count": null,
   "metadata": {},
   "outputs": [],
   "source": [
    "import csv\n",
    "csvfile=\"Example.csv\"\n",
    "with open(csvfile,'r') as fp:\n",
    "    reader=csv.reader(fp)\n",
    "    for row in reader:\n",
    "        print(','.join(row))"
   ]
  },
  {
   "cell_type": "code",
   "execution_count": null,
   "metadata": {},
   "outputs": [],
   "source": [
    "##csv資料讀取\n",
    "import csv\n",
    "with open('test.csv',newline='') as csvfile:\n",
    "    rows=csv.reader(csvfile)\n",
    "    for row in rows:\n",
    "        print(row)\n",
    "##讀取csv為dictionary\n",
    "import csv\n",
    "with open('test.csv',newline='') as csvfile:\n",
    "    rows=csv.DictReader(csvfile)\n",
    "    for row in rows:\n",
    "        print(row['姓名'],row['身高'],row['體重'])"
   ]
  },
  {
   "cell_type": "code",
   "execution_count": null,
   "metadata": {},
   "outputs": [],
   "source": [
    "import csv\n",
    "csvfile=\"Example2.csv\"\n",
    "list1=[[10,33,45],[5,26,56]]\n",
    "with open(csvfile,'w+',newline='') as fp:\n",
    "    writer=csv.writer(fp)\n",
    "    writer.writerow([\"Data1\",\"Data2\",\"Data3\"])\n",
    "    for row in list1:\n",
    "        writer.writerow(row)"
   ]
  },
  {
   "cell_type": "code",
   "execution_count": null,
   "metadata": {},
   "outputs": [],
   "source": [
    "##csv資料的儲存與讀取\n",
    "import csv\n",
    "with open('test.csv','w',newline='') as csvfile:\n",
    "    writer=csv.writer(csvfile)\n",
    "    writer.writerow(['姓名','身高','體重'])\n",
    "    writer.writerow(['chiou',170,65])\n",
    "    writer.writerow(['David',183,78])\n",
    "##dictionary寫入csv檔案\n",
    "import csv\n",
    "with open('test.csv','w',newline='') as csvfile:\n",
    "    fieldnames=['姓名','身高','體重']\n",
    "    writer=csv.DictWriter(csvfile,fieldnames=fieldnames)\n",
    "    writer.writeheader()\n",
    "    writer.writerow({'姓名':'chiou','身高':170,'體重':65})\n",
    "    writer.writerow({'姓名':'David','身高':183,'體重':78})"
   ]
  },
  {
   "cell_type": "markdown",
   "metadata": {},
   "source": [
    "## openpyxl.Workbook(.worksheets, .save), openpyxl.load_workbook(.worksheets, .save)"
   ]
  },
  {
   "cell_type": "markdown",
   "metadata": {},
   "source": [
    "## sheet(.value,.max_row,.max_column)"
   ]
  },
  {
   "cell_type": "code",
   "execution_count": 19,
   "metadata": {},
   "outputs": [],
   "source": [
    "import openpyxl\n",
    "workbook=openpyxl.Workbook()\n",
    "sheet=workbook.worksheets[0]\n",
    "sheet['A1']='Hello'\n",
    "sheet['B1']='World'\n",
    "listtitle=[\"姓名\",\"電話\"]\n",
    "sheet.append(listtitle)\n",
    "listdata=[\"chiou\",\"0937-1234567\"]\n",
    "sheet.append(listdata)\n",
    "workbook.save('test.xlsx')"
   ]
  },
  {
   "cell_type": "code",
   "execution_count": 21,
   "metadata": {},
   "outputs": [
    {
     "name": "stdout",
     "output_type": "stream",
     "text": [
      "<Cell 'Sheet'.A1> Hello\n",
      "3 2\n",
      "\n",
      "\n",
      "\n",
      "\n",
      "\n",
      "\n"
     ]
    }
   ],
   "source": [
    "##取得excel資料並更改\n",
    "import openpyxl\n",
    "workbook=openpyxl.load_workbook('test.xlsx')\n",
    "sheet=workbook.worksheets[0]\n",
    "print(sheet['A1'],sheet['A1'].value)\n",
    "print(sheet.max_row,sheet.max_column)\n",
    "for i in range(1,sheet.max_row+1):\n",
    "    for j in range(1,sheet.max_column+1):\n",
    "        print()\n",
    "sheet['A3']='David'\n",
    "workbook.save('test.xlsx')"
   ]
  },
  {
   "cell_type": "markdown",
   "metadata": {},
   "source": [
    "## f.readlines, for line in f, f.readline, f.read, ast.literal_eval, f.write"
   ]
  },
  {
   "cell_type": "code",
   "execution_count": 27,
   "metadata": {},
   "outputs": [
    {
     "name": "stdout",
     "output_type": "stream",
     "text": [
      "['1. 原始資料\\n', '\\n', '(1)customer1_split，共有311539個csv檔:Acquire valued shoppers challenge data資料集\\n', '\\n', '(2)events.csv:Retailrocket recommender system dataset資料集\\n', '\\n', '2. 經資料處理後，train的消費間隔天數資料\\n', '   (程式碼詳見data.preprocess.ipynb(data.preprocess.py、data.preprocess.html)) \\n', '\\n', '(1)gap_least.json: Acquire valued shoppers challenge 中較少購買之顧客資料 \\n', '(2)gap.json :    Acquire valued shoppers challenge  data \\n', '(3)gap1.json :    Retailrocket recommender system dataset\\n', '(4)gapall.json : Acquire valued shoppers challenge  data 中所有顧客的購買間隔天數合併為一個                          list(使用最大概似方法估計所有顧客共同參數時會使用到，因資料過大，想說先把它用成                    檔案，估計參數時就不用重新再計算)\\n', '\\n', '3. 將train資料估計參數所需的資料以及test資料天數內是否購買整理\\n', '   (程式碼詳見data.preprocess.ipynb(data.preprocess.py、data.preprocess.html)) \\n', '\\n', '(1)data.csv:Retailrocket recommender system dataset\\n', '(2)datalessbuy.csv:Acquire valued shoppers challenge 中較少購買之顧客資料\\n', '(3)likelihood_all.csv:Acquire valued shoppers challenge  data \\n', '\\n']\n"
     ]
    }
   ],
   "source": [
    "with open('資料處理.txt', 'r',encoding='UTF-8') as f:\n",
    "    data = f.readlines()\n",
    "print(data)"
   ]
  },
  {
   "cell_type": "code",
   "execution_count": 28,
   "metadata": {},
   "outputs": [
    {
     "name": "stdout",
     "output_type": "stream",
     "text": [
      "1. 原始資料\n",
      "\n",
      "(1)customer1_split，共有311539個csv檔:Acquire valued shoppers challenge data資料集\n",
      "\n",
      "(2)events.csv:Retailrocket recommender system dataset資料集\n",
      "\n",
      "2. 經資料處理後，train的消費間隔天數資料\n",
      "   (程式碼詳見data.preprocess.ipynb(data.preprocess.py、data.preprocess.html)) \n",
      "\n",
      "(1)gap_least.json: Acquire valued shoppers challenge 中較少購買之顧客資料 \n",
      "(2)gap.json :    Acquire valued shoppers challenge  data \n",
      "(3)gap1.json :    Retailrocket recommender system dataset\n",
      "(4)gapall.json : Acquire valued shoppers challenge  data 中所有顧客的購買間隔天數合併為一個                          list(使用最大概似方法估計所有顧客共同參數時會使用到，因資料過大，想說先把它用成                    檔案，估計參數時就不用重新再計算)\n",
      "\n",
      "3. 將train資料估計參數所需的資料以及test資料天數內是否購買整理\n",
      "   (程式碼詳見data.preprocess.ipynb(data.preprocess.py、data.preprocess.html)) \n",
      "\n",
      "(1)data.csv:Retailrocket recommender system dataset\n",
      "(2)datalessbuy.csv:Acquire valued shoppers challenge 中較少購買之顧客資料\n",
      "(3)likelihood_all.csv:Acquire valued shoppers challenge  data \n",
      "\n"
     ]
    }
   ],
   "source": [
    "f=open('資料處理.txt','r',encoding='UTF-8')\n",
    "for line in f:\n",
    "    print(line,end=\"\")\n",
    "f.close()"
   ]
  },
  {
   "cell_type": "code",
   "execution_count": 7,
   "metadata": {},
   "outputs": [
    {
     "data": {
      "text/plain": [
       "['a', 'gd', 'df']"
      ]
     },
     "execution_count": 7,
     "metadata": {},
     "output_type": "execute_result"
    }
   ],
   "source": [
    "\"a,gd,df\".split(\",\")"
   ]
  },
  {
   "cell_type": "code",
   "execution_count": 30,
   "metadata": {},
   "outputs": [
    {
     "data": {
      "text/plain": [
       "[['1.', '原始資料'],\n",
       " [''],\n",
       " ['(1)customer1_split，共有311539個csv檔:Acquire',\n",
       "  'valued',\n",
       "  'shoppers',\n",
       "  'challenge',\n",
       "  'data資料集'],\n",
       " [''],\n",
       " ['(2)events.csv:Retailrocket', 'recommender', 'system', 'dataset資料集'],\n",
       " [''],\n",
       " ['2.', '經資料處理後，train的消費間隔天數資料'],\n",
       " ['',\n",
       "  '',\n",
       "  '',\n",
       "  '(程式碼詳見data.preprocess.ipynb(data.preprocess.py、data.preprocess.html))',\n",
       "  ''],\n",
       " [''],\n",
       " ['(1)gap_least.json:',\n",
       "  'Acquire',\n",
       "  'valued',\n",
       "  'shoppers',\n",
       "  'challenge',\n",
       "  '中較少購買之顧客資料',\n",
       "  ''],\n",
       " ['(2)gap.json',\n",
       "  ':',\n",
       "  '',\n",
       "  '',\n",
       "  '',\n",
       "  'Acquire',\n",
       "  'valued',\n",
       "  'shoppers',\n",
       "  'challenge',\n",
       "  '',\n",
       "  'data',\n",
       "  ''],\n",
       " ['(3)gap1.json',\n",
       "  ':',\n",
       "  '',\n",
       "  '',\n",
       "  '',\n",
       "  'Retailrocket',\n",
       "  'recommender',\n",
       "  'system',\n",
       "  'dataset'],\n",
       " ['(4)gapall.json',\n",
       "  ':',\n",
       "  'Acquire',\n",
       "  'valued',\n",
       "  'shoppers',\n",
       "  'challenge',\n",
       "  '',\n",
       "  'data',\n",
       "  '中所有顧客的購買間隔天數合併為一個',\n",
       "  '',\n",
       "  '',\n",
       "  '',\n",
       "  '',\n",
       "  '',\n",
       "  '',\n",
       "  '',\n",
       "  '',\n",
       "  '',\n",
       "  '',\n",
       "  '',\n",
       "  '',\n",
       "  '',\n",
       "  '',\n",
       "  '',\n",
       "  '',\n",
       "  '',\n",
       "  '',\n",
       "  '',\n",
       "  '',\n",
       "  '',\n",
       "  '',\n",
       "  '',\n",
       "  '',\n",
       "  '',\n",
       "  'list(使用最大概似方法估計所有顧客共同參數時會使用到，因資料過大，想說先把它用成',\n",
       "  '',\n",
       "  '',\n",
       "  '',\n",
       "  '',\n",
       "  '',\n",
       "  '',\n",
       "  '',\n",
       "  '',\n",
       "  '',\n",
       "  '',\n",
       "  '',\n",
       "  '',\n",
       "  '',\n",
       "  '',\n",
       "  '',\n",
       "  '',\n",
       "  '',\n",
       "  '',\n",
       "  '',\n",
       "  '檔案，估計參數時就不用重新再計算)'],\n",
       " [''],\n",
       " ['3.', '將train資料估計參數所需的資料以及test資料天數內是否購買整理'],\n",
       " ['',\n",
       "  '',\n",
       "  '',\n",
       "  '(程式碼詳見data.preprocess.ipynb(data.preprocess.py、data.preprocess.html))',\n",
       "  ''],\n",
       " [''],\n",
       " ['(1)data.csv:Retailrocket', 'recommender', 'system', 'dataset'],\n",
       " ['(2)datalessbuy.csv:Acquire',\n",
       "  'valued',\n",
       "  'shoppers',\n",
       "  'challenge',\n",
       "  '中較少購買之顧客資料'],\n",
       " ['(3)likelihood_all.csv:Acquire',\n",
       "  'valued',\n",
       "  'shoppers',\n",
       "  'challenge',\n",
       "  '',\n",
       "  'data',\n",
       "  ''],\n",
       " ['']]"
      ]
     },
     "execution_count": 30,
     "metadata": {},
     "output_type": "execute_result"
    }
   ],
   "source": [
    "import pandas as pd\n",
    "data=[]\n",
    "with open('資料處理.txt','r',encoding='UTF-8') as f:\n",
    "    for line in f:\n",
    "        line = line.replace('\\n', '').split(' ') # 將每句最後的 /n 取代成空值後，再以逗號斷句\n",
    "        data.append(line)\n",
    "data"
   ]
  },
  {
   "cell_type": "code",
   "execution_count": 34,
   "metadata": {},
   "outputs": [
    {
     "data": {
      "text/html": [
       "<div>\n",
       "<style scoped>\n",
       "    .dataframe tbody tr th:only-of-type {\n",
       "        vertical-align: middle;\n",
       "    }\n",
       "\n",
       "    .dataframe tbody tr th {\n",
       "        vertical-align: top;\n",
       "    }\n",
       "\n",
       "    .dataframe thead th {\n",
       "        text-align: right;\n",
       "    }\n",
       "</style>\n",
       "<table border=\"1\" class=\"dataframe\">\n",
       "  <thead>\n",
       "    <tr style=\"text-align: right;\">\n",
       "      <th></th>\n",
       "      <th>0</th>\n",
       "      <th>1</th>\n",
       "      <th>2</th>\n",
       "      <th>3</th>\n",
       "      <th>4</th>\n",
       "      <th>5</th>\n",
       "      <th>6</th>\n",
       "      <th>7</th>\n",
       "      <th>8</th>\n",
       "      <th>9</th>\n",
       "      <th>...</th>\n",
       "      <th>45</th>\n",
       "      <th>46</th>\n",
       "      <th>47</th>\n",
       "      <th>48</th>\n",
       "      <th>49</th>\n",
       "      <th>50</th>\n",
       "      <th>51</th>\n",
       "      <th>52</th>\n",
       "      <th>53</th>\n",
       "      <th>54</th>\n",
       "    </tr>\n",
       "  </thead>\n",
       "  <tbody>\n",
       "    <tr>\n",
       "      <th>0</th>\n",
       "      <td>1.</td>\n",
       "      <td>原始資料\\n</td>\n",
       "      <td>None</td>\n",
       "      <td>None</td>\n",
       "      <td>None</td>\n",
       "      <td>None</td>\n",
       "      <td>None</td>\n",
       "      <td>None</td>\n",
       "      <td>None</td>\n",
       "      <td>None</td>\n",
       "      <td>...</td>\n",
       "      <td>None</td>\n",
       "      <td>None</td>\n",
       "      <td>None</td>\n",
       "      <td>None</td>\n",
       "      <td>None</td>\n",
       "      <td>None</td>\n",
       "      <td>None</td>\n",
       "      <td>None</td>\n",
       "      <td>None</td>\n",
       "      <td>None</td>\n",
       "    </tr>\n",
       "    <tr>\n",
       "      <th>1</th>\n",
       "      <td>\\n</td>\n",
       "      <td>None</td>\n",
       "      <td>None</td>\n",
       "      <td>None</td>\n",
       "      <td>None</td>\n",
       "      <td>None</td>\n",
       "      <td>None</td>\n",
       "      <td>None</td>\n",
       "      <td>None</td>\n",
       "      <td>None</td>\n",
       "      <td>...</td>\n",
       "      <td>None</td>\n",
       "      <td>None</td>\n",
       "      <td>None</td>\n",
       "      <td>None</td>\n",
       "      <td>None</td>\n",
       "      <td>None</td>\n",
       "      <td>None</td>\n",
       "      <td>None</td>\n",
       "      <td>None</td>\n",
       "      <td>None</td>\n",
       "    </tr>\n",
       "    <tr>\n",
       "      <th>2</th>\n",
       "      <td>(1)customer1_split，共有311539個csv檔:Acquire</td>\n",
       "      <td>valued</td>\n",
       "      <td>shoppers</td>\n",
       "      <td>challenge</td>\n",
       "      <td>data資料集\\n</td>\n",
       "      <td>None</td>\n",
       "      <td>None</td>\n",
       "      <td>None</td>\n",
       "      <td>None</td>\n",
       "      <td>None</td>\n",
       "      <td>...</td>\n",
       "      <td>None</td>\n",
       "      <td>None</td>\n",
       "      <td>None</td>\n",
       "      <td>None</td>\n",
       "      <td>None</td>\n",
       "      <td>None</td>\n",
       "      <td>None</td>\n",
       "      <td>None</td>\n",
       "      <td>None</td>\n",
       "      <td>None</td>\n",
       "    </tr>\n",
       "    <tr>\n",
       "      <th>3</th>\n",
       "      <td>\\n</td>\n",
       "      <td>None</td>\n",
       "      <td>None</td>\n",
       "      <td>None</td>\n",
       "      <td>None</td>\n",
       "      <td>None</td>\n",
       "      <td>None</td>\n",
       "      <td>None</td>\n",
       "      <td>None</td>\n",
       "      <td>None</td>\n",
       "      <td>...</td>\n",
       "      <td>None</td>\n",
       "      <td>None</td>\n",
       "      <td>None</td>\n",
       "      <td>None</td>\n",
       "      <td>None</td>\n",
       "      <td>None</td>\n",
       "      <td>None</td>\n",
       "      <td>None</td>\n",
       "      <td>None</td>\n",
       "      <td>None</td>\n",
       "    </tr>\n",
       "    <tr>\n",
       "      <th>4</th>\n",
       "      <td>(2)events.csv:Retailrocket</td>\n",
       "      <td>recommender</td>\n",
       "      <td>system</td>\n",
       "      <td>dataset資料集\\n</td>\n",
       "      <td>None</td>\n",
       "      <td>None</td>\n",
       "      <td>None</td>\n",
       "      <td>None</td>\n",
       "      <td>None</td>\n",
       "      <td>None</td>\n",
       "      <td>...</td>\n",
       "      <td>None</td>\n",
       "      <td>None</td>\n",
       "      <td>None</td>\n",
       "      <td>None</td>\n",
       "      <td>None</td>\n",
       "      <td>None</td>\n",
       "      <td>None</td>\n",
       "      <td>None</td>\n",
       "      <td>None</td>\n",
       "      <td>None</td>\n",
       "    </tr>\n",
       "  </tbody>\n",
       "</table>\n",
       "<p>5 rows × 55 columns</p>\n",
       "</div>"
      ],
      "text/plain": [
       "                                         0            1         2   \\\n",
       "0                                        1.       原始資料\\n      None   \n",
       "1                                        \\n         None      None   \n",
       "2  (1)customer1_split，共有311539個csv檔:Acquire       valued  shoppers   \n",
       "3                                        \\n         None      None   \n",
       "4                (2)events.csv:Retailrocket  recommender    system   \n",
       "\n",
       "             3          4     5     6     7     8     9   ...    45    46  \\\n",
       "0          None       None  None  None  None  None  None  ...  None  None   \n",
       "1          None       None  None  None  None  None  None  ...  None  None   \n",
       "2     challenge  data資料集\\n  None  None  None  None  None  ...  None  None   \n",
       "3          None       None  None  None  None  None  None  ...  None  None   \n",
       "4  dataset資料集\\n       None  None  None  None  None  None  ...  None  None   \n",
       "\n",
       "     47    48    49    50    51    52    53    54  \n",
       "0  None  None  None  None  None  None  None  None  \n",
       "1  None  None  None  None  None  None  None  None  \n",
       "2  None  None  None  None  None  None  None  None  \n",
       "3  None  None  None  None  None  None  None  None  \n",
       "4  None  None  None  None  None  None  None  None  \n",
       "\n",
       "[5 rows x 55 columns]"
      ]
     },
     "execution_count": 34,
     "metadata": {},
     "output_type": "execute_result"
    }
   ],
   "source": [
    "import pandas as pd\n",
    "arrange_data=[]\n",
    "with open('資料處理.txt','r',encoding='UTF-8') as f:\n",
    "    for line in f:\n",
    "        line = line.split(' ')\n",
    "        arrange_data.append(line)\n",
    "df = pd.DataFrame(arrange_data)\n",
    "df.head()"
   ]
  },
  {
   "cell_type": "code",
   "execution_count": 25,
   "metadata": {},
   "outputs": [
    {
     "name": "stdout",
     "output_type": "stream",
     "text": [
      "1. 原始\n"
     ]
    }
   ],
   "source": [
    "f=open('資料處理.txt','r',encoding='UTF-8')\n",
    "str1=f.read(5)\n",
    "print(str1)"
   ]
  },
  {
   "cell_type": "code",
   "execution_count": null,
   "metadata": {},
   "outputs": [],
   "source": [
    "import locale\n",
    "print(locale.getpreferredencoding())\n",
    "f=open('file.txt','r',encoding='cp950')\n",
    "f=open(編碼為UTF-8檔案,'r',encoding='UTF-8')\n",
    "\n",
    "\n",
    "# In[20]:\n",
    "\n",
    "f=open('資料處理.txt','r')\n",
    "str1=f.read(5)\n",
    "print(str1)\n",
    "f.close()\n",
    "\n",
    "\n",
    "# In[21]:\n",
    "\n",
    "with open('file.txt','r') as f:\n",
    "    content=f.readlines()\n",
    "    print(type(content))\n",
    "    print(content)\n",
    "\n",
    "with open('file.txt','r',encoding='UTF-8-sig') as f:\n",
    "    doc=f.readlines()\n",
    "    print(doc)\n",
    "    \n",
    "f=open('file.txt','r',encoding='UTF-8-sig')\n",
    "str1=f.read(5)\n",
    "print(str1)\n",
    "f.close()                              #和上個比差別在此可以去除前面的BOM\n",
    "\n",
    "f=open('file2.txt','r',encoding='UTF-8-sig')\n",
    "print(f.readline())                #讀取第一列\n",
    "print(f.readline(3))               #讀取第二列前三個字\n",
    "f.close()   \n"
   ]
  },
  {
   "cell_type": "code",
   "execution_count": 39,
   "metadata": {},
   "outputs": [
    {
     "data": {
      "text/plain": [
       "'1. 原始資料\\n\\n(1)customer1_split，共有311539個csv檔:Acquire valued shoppers challenge data資料集\\n\\n(2)events.csv:Retailrocket recommender system dataset資料集\\n\\n2. 經資料處理後，train的消費間隔天數資料\\n   (程式碼詳見data.preprocess.ipynb(data.preprocess.py、data.preprocess.html)) \\n\\n(1)gap_least.json: Acquire valued shoppers challenge 中較少購買之顧客資料 \\n(2)gap.json :    Acquire valued shoppers challenge  data \\n(3)gap1.json :    Retailrocket recommender system dataset\\n(4)gapall.json : Acquire valued shoppers challenge  data 中所有顧客的購買間隔天數合併為一個                          list(使用最大概似方法估計所有顧客共同參數時會使用到，因資料過大，想說先把它用成                    檔案，估計參數時就不用重新再計算)\\n\\n3. 將train資料估計參數所需的資料以及test資料天數內是否購買整理\\n   (程式碼詳見data.preprocess.ipynb(data.preprocess.py、data.preprocess.html)) \\n\\n(1)data.csv:Retailrocket recommender system dataset\\n(2)datalessbuy.csv:Acquire valued shoppers challenge 中較少購買之顧客資料\\n(3)likelihood_all.csv:Acquire valued shoppers challenge  data \\n\\n'"
      ]
     },
     "execution_count": 39,
     "metadata": {},
     "output_type": "execute_result"
    }
   ],
   "source": [
    "#檔案讀取後將文字轉換為字典\n",
    "import ast\n",
    "data=dict()\n",
    "with open('資料處理.txt','r',encoding='UTF-8') as f:\n",
    "    filedata=f.read()\n",
    "filedata\n"
   ]
  },
  {
   "cell_type": "code",
   "execution_count": 43,
   "metadata": {},
   "outputs": [
    {
     "data": {
      "text/plain": [
       "{'a': 2, 'b': 3, 3: 'xyz'}"
      ]
     },
     "execution_count": 43,
     "metadata": {},
     "output_type": "execute_result"
    }
   ],
   "source": [
    "ast.literal_eval(\"{'a': 2, 'b': 3, 3:'xyz'}\")"
   ]
  },
  {
   "cell_type": "code",
   "execution_count": 45,
   "metadata": {},
   "outputs": [
    {
     "data": {
      "text/plain": [
       "1"
      ]
     },
     "execution_count": 45,
     "metadata": {},
     "output_type": "execute_result"
    }
   ],
   "source": [
    "import ast\n",
    "ast.literal_eval(\"{'a': 2, 'b': 3, 3:'xyz'}\") # output : {'a': 2, 'b': 3, 3:'xyz'}\n",
    "# type dictionary\n",
    "eval(\"__import__('os').system('rm -rf /')\") "
   ]
  },
  {
   "cell_type": "code",
   "execution_count": 47,
   "metadata": {},
   "outputs": [
    {
     "data": {
      "text/plain": [
       "[1, 2, 3]"
      ]
     },
     "execution_count": 47,
     "metadata": {},
     "output_type": "execute_result"
    }
   ],
   "source": [
    "data=ast.literal_eval(\"[1,2,3]\")\n",
    "data"
   ]
  },
  {
   "cell_type": "code",
   "execution_count": null,
   "metadata": {},
   "outputs": [],
   "source": [
    "content='''Hello Python\n",
    "中文字測試\n",
    "Welcome\n",
    "'''\n",
    "\n",
    "f=open('file.txt','w')\n",
    "f.write(content)\n",
    "f.close()"
   ]
  },
  {
   "cell_type": "code",
   "execution_count": null,
   "metadata": {},
   "outputs": [],
   "source": [
    "def menu():\n",
    "    os.system(\"cls\")\n",
    "    print(\"帳號,密碼管理系統\")\n",
    "    print(\"-----------------------\")\n",
    "    print(\"1.輸入帳號密碼\")\n",
    "    print(\"2.顯示帳號密碼\")\n",
    "    print(\"3.修改密碼\")\n",
    "    print(\"4.刪除帳號密碼\")\n",
    "    print(\"0.結束程式\")\n",
    "    print(\"----------------------\")\n",
    "def ReadData():\n",
    "    with open('password.txt','r',encoding='UTF-8-sig'):\n",
    "        filedata=f.read()\n",
    "        if filedata !=\"\":\n",
    "            data=ast.literal_eval(filedata)\n",
    "            return data\n",
    "        else:return dict()\n",
    "def disp_data():\n",
    "    print(\"帳號\\t密碼\")\n",
    "    print(\"================\")\n",
    "    for key in data:\n",
    "        print(\"{}\\t{}\".format(key,data[key]))\n",
    "    input(\"按任意鍵返回主選單\")\n",
    "def input_data():\n",
    "    while True:\n",
    "        name=input(\"請輸入帳號(Enter==>停止輸入)\")\n",
    "        if name==\"\": break\n",
    "        if name in data:\n",
    "            print(\"{}帳號已存在!\".format(name))\n",
    "            continue\n",
    "        password=input(\"請輸入密碼:\")\n",
    "        data[name]=password\n",
    "        with open('password.txt','w',encoding='UTF-8-sig') as f:\n",
    "            f.write(str(data))\n",
    "        print(\"{}已被儲存完畢\".format(name))\n",
    "def edit_data():\n",
    "     while True:\n",
    "        name=input(\"請輸入要修改的帳號(Enter==>停止輸入)\")\n",
    "        if name==\"\": break\n",
    "        if not name in data:\n",
    "            print(\"{}帳號不存在!\".format(name))\n",
    "            continue\n",
    "        print(\"原來密碼為:{}\".format(data[name]))\n",
    "        password=input(\"請輸入新密碼:\")\n",
    "        data[name]=password\n",
    "        with open('password.txt','w',encoding='UTF-8-sig') as f:\n",
    "            f.write(str(data))\n",
    "            input(\"密碼更改完畢,請按任意鍵返回主選單\")\n",
    "            break\n",
    "def delete_data():\n",
    "     while True:\n",
    "        name=input(\"請輸入要刪除的帳號(Enter==>停止輸入)\")\n",
    "        if name==\"\": break\n",
    "        if not name in data:\n",
    "            print(\"{}帳號不存在!\".format(name))\n",
    "            continue\n",
    "        print(\"確定刪除{}的資料!:\".format(name))\n",
    "        yn=input(\"(Y/N)\")\n",
    "        if (yn==\"Y\" or yn==\"y\"):\n",
    "            del data[name]\n",
    "            with open('password.txt','w',encoding='UTF-8-sig') as f:\n",
    "                f.write(str(data))\n",
    "                input(\"已刪除完畢,請按任意鍵返回主選單\")\n",
    "                break\n",
    "import os,ast\n",
    "data=dict()\n",
    "\n",
    "data=ReadData()  #讀取文字檔後轉為dict\n",
    "while True:\n",
    "    menu()\n",
    "    choice=int(input(\"請輸入你的選擇:\"))\n",
    "    print()\n",
    "    if choice==1:\n",
    "        input_data()\n",
    "    elif choice==2:\n",
    "        disp_data()\n",
    "    elif choice==3:\n",
    "        edit_data()\n",
    "    elif choice==4:\n",
    "        delete_data()\n",
    "    else:\n",
    "        break\n",
    "    \n",
    "print(\"程式執行完畢!\")"
   ]
  },
  {
   "cell_type": "markdown",
   "metadata": {},
   "source": [
    "## json.load, df.to_json"
   ]
  },
  {
   "cell_type": "code",
   "execution_count": null,
   "metadata": {},
   "outputs": [],
   "source": [
    "import json\n",
    "df.to_json('data/examples/example01.json')"
   ]
  },
  {
   "cell_type": "code",
   "execution_count": null,
   "metadata": {},
   "outputs": [],
   "source": [
    "import json\n",
    "with open('example.json', 'r') as f:\n",
    "    data = json.load(f)\n",
    "print(data)"
   ]
  },
  {
   "cell_type": "markdown",
   "metadata": {},
   "source": [
    "## pickle.dump, pickle.load "
   ]
  },
  {
   "cell_type": "code",
   "execution_count": null,
   "metadata": {},
   "outputs": [],
   "source": [
    "import pickle\n",
    "with open('data/examples/example.pkl', 'wb') as f:\n",
    "    pickle.dump(file=f, obj=data)"
   ]
  },
  {
   "cell_type": "code",
   "execution_count": null,
   "metadata": {},
   "outputs": [],
   "source": [
    "import pickle\n",
    "with open(\"example.pkl\",\"rb\") as f:\n",
    "    arr = pickle.load(f)"
   ]
  },
  {
   "cell_type": "markdown",
   "metadata": {},
   "source": [
    "## scipy.io(讀mat檔:可存很多圖片mdict):loadmat, savemat\n",
    "## cv2:imread, cvtcolor, COLOR_BGR2RGB, namedWindow, detoryWindow, detoryAllWindow, imwrite\n",
    "## Image(可用open讀網址的圖片):read, open \n",
    "## skimage.io:imread\n",
    "## np(讀npy檔):save, load, savetxt((delimiter=\",\")), loadtxt((delimiter=\",\"))\n",
    "## BytesIO(網址圖片):BytesIO(response.content)"
   ]
  },
  {
   "cell_type": "code",
   "execution_count": null,
   "metadata": {},
   "outputs": [],
   "source": [
    "import scipy.io as sio\n",
    "data = sio.loadmat('example.mat')"
   ]
  },
  {
   "cell_type": "code",
   "execution_count": null,
   "metadata": {},
   "outputs": [],
   "source": [
    "image = cv2.imread(...) # 注意 cv2 會以 BGR 讀入\n",
    "image = cv2.cvtcolor(image, cv2.COLOR_BGR2RGB)\n",
    "from PIL import Image\n",
    "image = Image.read(...)\n",
    "import skimage.io as skio\n",
    "image = skio.imread(...)"
   ]
  },
  {
   "cell_type": "code",
   "execution_count": null,
   "metadata": {},
   "outputs": [],
   "source": [
    "np.save(arr=array, file='data/examples/example.npy')"
   ]
  },
  {
   "cell_type": "code",
   "execution_count": null,
   "metadata": {},
   "outputs": [],
   "source": [
    "import numpy as np\n",
    "arr = np.load(\"example.npy\")"
   ]
  },
  {
   "cell_type": "code",
   "execution_count": null,
   "metadata": {},
   "outputs": [],
   "source": [
    "a=np.arange(10)\n",
    "outputfile=\"Example.npy\"\n",
    "with open(outputfile,'wb') as fp:\n",
    "    np.save(fp,a)\n",
    "a=np.array([[1,2,3],[4,5,6]])\n",
    "outputfile=\"Example.out\"\n",
    "np.savetxt(outputfile,a,delimiter=\",\")\n",
    "##載入\n",
    "outputfile=\"Example.npy\"\n",
    "with open(outputfile,'rb') as fp:\n",
    "    a=np.load(fp)\n",
    "print(a)\n",
    "\n",
    "outputfile=\"Example.npy\"\n",
    "a=np.loadtxt(outputfile,delimiter=\",\")\n",
    "print(a)"
   ]
  },
  {
   "cell_type": "code",
   "execution_count": null,
   "metadata": {},
   "outputs": [],
   "source": [
    "from PIL import Image\n",
    "from io import BytesIO\n",
    "import numpy as np\n",
    "import matplotlib.pyplot as plt\n",
    "# 請用 df.loc[...] 得到第一筆資料的連結\n",
    "first_link = df.loc[0,1]\n",
    "response = requests.get(first_link)\n",
    "img = Image.open(BytesIO(response.content))\n",
    "plt.imshow(img)\n",
    "plt.show()"
   ]
  },
  {
   "cell_type": "code",
   "execution_count": null,
   "metadata": {},
   "outputs": [],
   "source": [
    "def img2arr_fromURLs(url_list, resize = False):\n",
    "    img_list = []\n",
    "    for u in url_list:        \n",
    "        response = requests.get(u)\n",
    "        try:\n",
    "            img = Image.open(BytesIO(response.content))\n",
    "        except OSError:\n",
    "            continue\n",
    "        img = np.array(img)\n",
    "        img_list.append(img)\n",
    "    return img_list"
   ]
  },
  {
   "cell_type": "code",
   "execution_count": null,
   "metadata": {},
   "outputs": [],
   "source": [
    "result = img2arr_fromURLs(df[0:5][1])\n",
    "print(\"Total images that we got: %i \" % len(result)) # 如果不等於 5, 代表有些連結失效囉\n",
    "for im_get in result:\n",
    "    plt.imshow(im_get)\n",
    "    plt.show()"
   ]
  },
  {
   "cell_type": "code",
   "execution_count": null,
   "metadata": {},
   "outputs": [],
   "source": [
    "from PIL import Image\n",
    "img2 = Image.open('data/examples/example.jpg') # 這時候還是 PIL object\n",
    "img2 = np.array(img2)\n",
    "plt.imshow(img2)\n",
    "plt.show()"
   ]
  },
  {
   "cell_type": "code",
   "execution_count": null,
   "metadata": {},
   "outputs": [],
   "source": [
    "import skimage.io as skio\n",
    "img1 = skio.imread('data/examples/example.jpg')\n",
    "plt.imshow(img1)\n",
    "plt.show()"
   ]
  },
  {
   "cell_type": "code",
   "execution_count": null,
   "metadata": {},
   "outputs": [],
   "source": [
    "import cv2\n",
    "img3 = cv2.imread('data/examples/example.jpg')\n",
    "plt.imshow(img3)\n",
    "plt.show()\n",
    "\n",
    "img3 = cv2.cvtColor(img3, cv2.COLOR_BGR2RGB)\n",
    "plt.imshow(img3)\n",
    "plt.show()"
   ]
  },
  {
   "cell_type": "code",
   "execution_count": null,
   "metadata": {},
   "outputs": [],
   "source": [
    "##以OpenCV讀取即顯示圖形\n",
    "conda install -c http://conda.anaconda.org/menpo opencv3\n",
    "import cv2\n",
    "cv2.namedWindow(視窗名稱,視窗旗標)\n",
    "cv2.namedWindow(\"Image\")\n",
    "##關閉視窗\n",
    "cv2.detoryWindow(\"Image\")\n",
    "cv2.detoryAllWindow()\n",
    "##讀取影像\n",
    "img=cv2,imread(\"media:\\\\img.jpg\",1)   ##1:讀取彩色檔案  0:灰階模式  -1:影像原始模式\n",
    "##視窗中顯示影像\n",
    "cv2.imshow(\"Image\",img)  ##img影像顯示於Image視窗中\n",
    "##加入等待一段時間的程式碼 直到使用者案任意鍵或時間到才繼續執行程式\n",
    "cv2.waitKey(n) ##n:等待時間(單位:毫秒)\n",
    "##OpenCV顯示圖形\n",
    "import cv2\n",
    "cv2.namedWindow(\"ShowImage1\")\n",
    "cv2.namedWindow(\"ShowImage2\")\n",
    "image1=cv2.imread(\"media\\\\img01.jpg\")\n",
    "image1=cv2.imread(\"media\\\\img01.jpg\",1)\n",
    "image2=cv2.imread(\"media\\\\img01.jpg\",0)\n",
    "cv2.imshow(\"ShowImage1\",image1)\n",
    "cv2.imshow(\"ShowImage2\",image2)\n",
    "cv2.waitKey(0)\n",
    "cv2.waitKey(10000)\n",
    "cv2.detoryAllWindow()\n",
    "##儲存影像檔\n",
    "cv2.imwrite(\"img.jpg\",img,[int(cv2.IMWRITE_JPEG_QUALITY),70])  ##cv2.IMWRITE_JPEG_QUALITY:設定JPEG,JPG存檔品質(0~100) cv2.IMWRITE_WEBP_QUALITY:設定WEBP存檔品質(0~100) cv2.IMWRITE_PNG_QUALITY:設定PNG存檔品質(0~9)\n",
    "##OpenCV儲存圖片檔\n",
    "import cv2\n",
    "cv2.namedWindow(\"ShowImage\")\n",
    "image=cv2.imread(\"media\\\\img01.jpg\",0)\n",
    "cv2.imshow(\"ShowImage\",image)\n",
    "cv2.imwrite(\"media\\\\img01copy1.jpg\",image,[int(cv2.IMWRITE_JPEG_QUALITY),50]) \n",
    "cv2.waitKey(0)\n",
    "cv2.detoryWindow(\"ShowImage\")\n"
   ]
  },
  {
   "cell_type": "code",
   "execution_count": null,
   "metadata": {},
   "outputs": [],
   "source": [
    "import scipy.io as sio\n",
    "sio.savemat(file_name='data/examples/example.mat', mdict={'img': img1})"
   ]
  },
  {
   "cell_type": "code",
   "execution_count": null,
   "metadata": {},
   "outputs": [],
   "source": [
    "mat_arr = sio.loadmat('data/examples/example.mat')\n",
    "print(mat_arr.keys())"
   ]
  },
  {
   "cell_type": "code",
   "execution_count": null,
   "metadata": {},
   "outputs": [],
   "source": [
    "mat_arr = mat_arr['img']\n",
    "print(mat_arr.shape)"
   ]
  },
  {
   "cell_type": "code",
   "execution_count": null,
   "metadata": {},
   "outputs": [],
   "source": [
    "plt.imshow(mat_arr)\n",
    "plt.show()"
   ]
  },
  {
   "cell_type": "markdown",
   "metadata": {},
   "source": [
    "## requests.get, urllib.request.urlopen(.read), f.write"
   ]
  },
  {
   "cell_type": "code",
   "execution_count": null,
   "metadata": {},
   "outputs": [],
   "source": [
    "##使用requests模組下載圖檔\n",
    "import requests\n",
    "url=\"http://hueyanchen.myweb.hinet.net/fchart05.png\"\n",
    "path=\"fchart05.png\"\n",
    "response=requests.get(url,stream=True)\n",
    "if response.status_code==200:\n",
    "    with open(path,'wb') as fp:\n",
    "        for chunk in response:\n",
    "            fp.write(chunk)\n",
    "    print(\"圖檔已經下載\")\n",
    "else:\n",
    "    print(\"錯誤! HTTP 請求失敗...\")"
   ]
  },
  {
   "cell_type": "code",
   "execution_count": null,
   "metadata": {},
   "outputs": [],
   "source": [
    "##使用urllib模組下載圖檔\n",
    "import urllib.request\n",
    "url=\"http://hueyanchen.myweb.hinet.net/fchart05.png\"\n",
    "response=urllib.request.urlopen(url)\n",
    "fp=open(\"fchart05.png\",\"wb\")\n",
    "size=0\n",
    "while True:\n",
    "    info=response.read(10000)\n",
    "    if len(info)<1:\n",
    "        break\n",
    "    size=size+len(info)\n",
    "    fp.write(info)\n",
    "print(size,\"個字元下載...\")\n",
    "fp.close()\n",
    "response.close()"
   ]
  },
  {
   "cell_type": "markdown",
   "metadata": {},
   "source": [
    "## 臉部辨識"
   ]
  },
  {
   "cell_type": "code",
   "execution_count": null,
   "metadata": {},
   "outputs": [],
   "source": [
    "##使用OpenCV進行臉部辨識\n",
    "faceCascade=cv2.CascadeClassifier(辨識檔路徑)\n",
    "faces=faceCascade.detectMultiScale(image,scaleFactor=1.1,minNeighbors=5,minSize=(10,10),flags=cv2.CASCADE_SCALE_IMAGE)\n",
    "##標示臉部位置\n",
    "import cv2\n",
    "casc_path=\"\"\n",
    "faceCascade=cv2.CascadeClassifier(casc_path)\n",
    "imagename=cv2.imread(\"media\\\\person1.jpg\")\n",
    "faces=faceCascade.detectMultiScale(imagename,scaleFactor=1.1,minNeighbors=5,minSize=(30,30),flags=cv2.CASCADE_SCALE_IMAGE)\n",
    "cv2.rectangle(imagename,(10,imagename.shape[0]-20),(110,imagename.shape[1]),(0,0,0),-1) ##imagename.shape[0]:圖片高度 imagename.shape[1]:圖片寬度\n",
    "cv2.putText(imagename,\"Find\"+str(len(faces))+\"face!\",(10,imagename.shape[0]-5),cv2.FONT_HERSHEY_SIMPLEX,0.5,(255,255,255),2)\n",
    "for (x,y,w,h) in faces:\n",
    "    cv2.rectangle(imagename,(x,y),(x+w,y+h),(128,255,0),2)\n",
    "cv2.namedWindow(\"facedetect\")\n",
    "cv2.imshow(\"facedetect\",imagename)\n",
    "cv2.waitKey(0)\n",
    "cv2.destroyWindow(\"facedetect\")\n",
    "##擷取臉部圖形及存檔\n",
    "from PIL import Image\n",
    "img=Image.open(\"test.jpg\")\n",
    "img2=img.crop((左上角x座標,左上角y座標,右上角x座標,右上角y座標))\n",
    "img2=img.crop((50,50,200,200))\n",
    "img3=img.resize((300,300),Image.ANTIALIAS) ##以最高品質將圖片大小重設為(300,300)\n",
    "##Image.ANTIALIAS:最高品質 Image.BICUBIC:三次樣條取樣算法 Image.BILINEAR:雙線性取樣算法 Image.NEAREST:最低品質\n",
    "##最後以save方法儲存檔案\n",
    "img3.save(存檔路徑)\n",
    "##擷取攝影機影像\n",
    "cap=cv2.VideoCapture(0)  ##0:內建攝影機  其他攝影機:1,2,..\n",
    "##是否處於開啟狀態\n",
    "cap.isOpened()\n",
    "##讀取攝影機影像 布林直:ret 影像:img\n",
    "ret,img=cap.read()\n",
    "##以release方法關閉攝影機並釋放資源\n",
    "cap.release()\n",
    "##取得使用者按鍵\n",
    "key=cv2.waitKey(10000)\n",
    "if key==ord(\"A\")           ##True:使用者按了A鍵\n",
    "##擷取攝影機靜態影像\n",
    "import cv2\n",
    "cv2.namedWindow(\"frame\")\n",
    "cap=cv2.VideoCapture(0)\n",
    "while(cap.isOpened()):\n",
    "    ret,img=cap.read()\n",
    "    if ret==True:\n",
    "        cv2.imshow(\"frame\",img)\n",
    "        k=cv2.waitKey(100)\n",
    "        if k==ord(\"z\") or k==ord(\"Z\"):\n",
    "            cv2.imwrite(\"media\\\\catch.jpg\",img)\n",
    "            break                      \n",
    "cap.release()\n",
    "cv2.waitKey(0)\n",
    "cv2.destoryWindow(\"frame\")\n"
   ]
  },
  {
   "cell_type": "markdown",
   "metadata": {},
   "source": [
    "## 破解驗證碼"
   ]
  },
  {
   "cell_type": "code",
   "execution_count": null,
   "metadata": {},
   "outputs": [],
   "source": [
    "##以Tesseract辨識文字\n",
    "import subprocess\n",
    "ocr=subprocess.Popen(\"tesseract media\\\\text1.jpg media\\\\result\")\n",
    "ocr.wait()\n",
    "text=open(\"media\\\\reult.txt\").read().strip()    ##讀取辨識結果文字檔\n",
    "print(text)\n",
    "##將圖片轉成灰階\n",
    "cv2.cvtColor(img,cv2.COLOR_BGR2GRAY) ##cv2.COLOR_BGR2RGB:轉成RGB圖形 cv2.COLOR_BGR2HSV:轉成HSV圖形\n",
    "##將圖片轉為黑白\n",
    "CV2.threshold(img,150,255,cv2.THRESH_BINARY_INV) ##150:臨界值 255:分配直  cv2.THRESH_BINARY:顏色值大於臨界值者設為255否則為0(黑白圖形)cv2.THRESH_TOZERO:顏色直小於臨界值者設為0否則不變 cv2.COLOR_TRUNC:顏色值大於臨界值者設為分配直否則不變\n",
    "##去除雜點\n",
    "for i in range(len(inv)):                     ##i為每一列\n",
    "    for j in range(len(inv[i])):             ##j為每一行\n",
    "        if inv[i][j]==255:                                ##顏色為白色\n",
    "            count=0\n",
    "            for k in range(-2,3):\n",
    "                for l in range(-2,3):\n",
    "                    try:\n",
    "                        if inv[i+k][j+l]==255:\n",
    "                            count+=1\n",
    "                    except IndexError:\n",
    "                        pass\n",
    "            if count<=6:                        ##周圍少於等於六個白點\n",
    "                inv[i][j]==0                   ##將白點去除\n",
    "##將驗證碼字體加粗\n",
    "cv2.dilate(img,(8,8),iterations=1)              ##iterations=數值:設定膨脹次數\n",
    "##驗證碼破解\n",
    "import cv2,subprocess\n",
    "img=cv2.imread(\"media\\\\bank.jpg\")\n",
    "cv2.namedWindow(\"Image\")\n",
    "cv2.imsshow(\"Image\",img)\n",
    "cv2.waitKey(0)\n",
    "cv2.destoryWindow(\"Image\")\n",
    "gray=cv2.cvtColor(img,cv2.COLOR_BGR2GRAY)\n",
    "_,inv=cv2.threshold(gray,150,255,cv2.THRESH_BINARY_INV)\n",
    "for i in range(len(inv)):                     \n",
    "    for j in range(len(inv[i])):             \n",
    "        if inv[i][j]==255:                               \n",
    "            count=0\n",
    "            for k in range(-2,3):\n",
    "                for l in range(-2,3):\n",
    "                    try:\n",
    "                        if inv[i+k][j+l]==255:\n",
    "                            count+=1\n",
    "                    except IndexError:\n",
    "                        pass\n",
    "            if count<=6:                      \n",
    "                inv[i][j]==0\n",
    "dilation=cv2.dilate(inv,(8,8),iterations=1)\n",
    "cv2.imwrite(\"media\\\\bank_t.jpg\",dilation)\n",
    "child=subprocess.Popen('tesseract media\\\\bank_t.jpg result')\n",
    "child.wait()\n",
    "text=open('result.txt').read().strip()\n",
    "print(\"驗證碼為\"+text)"
   ]
  },
  {
   "cell_type": "markdown",
   "metadata": {},
   "source": [
    "## google試算表"
   ]
  },
  {
   "cell_type": "code",
   "execution_count": null,
   "metadata": {},
   "outputs": [],
   "source": [
    "##google試算表讀取與儲存\n",
    "pip install gspread oauth2client\n",
    "import gspread\n",
    "from oauth2client.service_account import ServiceAccountCredentials\n",
    "auth_json_path='PythonConnectGsheet1-6a6086d149c5.json'\n",
    "gss_scopes=['http://spreadsheets.google.com/feeds']\n",
    "credentials=ServiceAccountCredentials.from_json_keyfile_name(auth_json_path,gss_scopes)\n",
    "gss.client=gspread.authorize(credentials)\n",
    "\n",
    "spreadsheet_key='id'  ##id（看書）\n",
    "sheet=gss_client.open_by_key(spreadsheet_key).sheet1\n",
    "\n",
    "sheet.clear()\n",
    "listtitle=[\"姓名\",\"電話\"]\n",
    "sheet.qppend_row(listtitle)\n",
    "listdata=[\"chiou\",\"0937-1234567\"]\n",
    "sheet.qppend_row(listdata)"
   ]
  },
  {
   "cell_type": "markdown",
   "metadata": {},
   "source": [
    "## 資料庫連結"
   ]
  },
  {
   "cell_type": "code",
   "execution_count": null,
   "metadata": {},
   "outputs": [],
   "source": [
    "##查詢SQL資料庫\n",
    "import sqlite3\n",
    "conn=sqlite3.connect(\"Books.sqlite\")\n",
    "cursor=conn.execute(\"SELECT * FROM Books\")\n",
    "for row in cursor:\n",
    "    print(row[0],row[1])\n",
    "conn.close()\n",
    "\n",
    "##將csv資料匯入SQL資料庫\n",
    "book=\"P002,Python程式設計,500\"\n",
    "f=book.split(\",\")\n",
    "conn=sqlite3.connect(\"Books.sqlite\")\n",
    "sql=\"INSERT INTO Books (id,title,price) VALUES ('{0}','{1}','{2}')\"\n",
    "sql=sql.format(f[0],f[1],f[2])\n",
    "print(sql)\n",
    "cursor=conn.execute(sql)\n",
    "print(cursor.rowcount)\n",
    "conn.commit()\n",
    "conn.close()"
   ]
  },
  {
   "cell_type": "code",
   "execution_count": null,
   "metadata": {},
   "outputs": [],
   "source": [
    "##SQLite資料庫\n",
    "import sqlite3\n",
    "conn=sqlite3.connect('test.sqlite')               ##建立資料庫連線\n",
    "cursor=conn.cursor()\n",
    "sqlstr='CREATE TABLE IF NOT EXISTS table01         (\"num\" INTEGER PRIMARY KEY NOT NULL ,\"tel\" TEXT)'\n",
    "cursor.execute(sqlstr)                                       ##建立一個資料表\n",
    "sqlstr='insert into table01 values(1,\"02-1234567\")'\n",
    "cursor.execute(sqlstr)                                       ##新增一筆紀錄\n",
    "\n",
    "conn.commit()                     ##主動更新\n",
    "conn.close()                      ##關閉資料庫連線\n",
    "##\n",
    "sqlstr='CREATE TABLE \"table01\" (\"num\" INTERGER PRIMARY KEY NOT NULL ,     \"tel\" TEXT)'\n",
    "conn.execute(sqlstr)\n",
    "conn.commit()\n",
    "\n",
    "num=1\n",
    "tel=\"02-1234567\"\n",
    "sqlstr=\"insert into table01 values({},'{}')\".format(num,tel)\n",
    "conn.execute(sqlstr)\n",
    "conn.commit()\n",
    "\n",
    "sqlstr=\"update table01 set tel='{}' where num={}\".format(\"049-2988000\",1)\n",
    "conn.execute(sqlstr)\n",
    "conn.commit()\n",
    "\n",
    "sqlstr=\"delete from table where num=1\"\n",
    "conn.execute(sqlstr)\n",
    "conn.commit()\n",
    "\n",
    "sqlstr=\"DROP TABLE table01\"\n",
    "conn.execute(sqlstr)\n",
    "conn.commit()\n",
    "\n",
    "conn.close()\n",
    "##cursor查詢資料\n",
    "cursor=conn.execute('select * from table01')\n",
    "rows=cursor.fetchall()            ##找出所有符合查詢條件的資料\n",
    "print(rows)\n",
    "for row in rows:\n",
    "    print(\"{}\\t{}\".format(row[0],row[1]))\n",
    "cursor=conn.execute('select * from table01 where num=1')\n",
    "row=cursor.fetchone()\n",
    "if not row==None:\n",
    "    print(\"{}\\t{}\".format(row[0],row[1]))\n",
    "\n",
    "\n",
    "# In[3]:\n",
    "\n",
    "##MySQL資料庫\n",
    "pip install pymysql==0.8.0\n",
    "import pymysql\n",
    "conn=pymysql.connect(伺服器位置,port=3306,user=使用者名稱,passwd=密碼,charset='utf8',db=資料庫名稱)\n",
    "cursor=conn.cursor()\n",
    "sqlstr=\"\"\"\n",
    "CREATE TABLE 資料表名稱(\n",
    "欄位名稱　資料型態,                ##欄位名稱 int not null auto_increment primary key\n",
    ")\n",
    "\"\"\"\n",
    "cursor.execute(sqlstr)\n",
    "conn.commit()\n",
    "cursor.close()\n",
    "conn.close()\n",
    "##\n",
    "import pymysql\n",
    "conn=pymysql.connect('localhost',port=3306,user='root',passwd='1234',charset='utf8',db='pythondb')\n",
    "cursor=conn.cursor()\n",
    "cursor.execute(\"drop table if exists score\")\n",
    "sql=\"\"\"\n",
    "CREATE TABLE score(\n",
    "sid int not null auto_increment primary key,\n",
    "姓名 char(20)\n",
    "座號 char(3)\n",
    "國文 int\n",
    "數學 int\n",
    ")\n",
    "\"\"\"\n",
    "cursor.execute(sql)\n",
    "conn.commit()\n",
    "cursor.close()\n",
    "conn.close()\n",
    "##\n",
    "sql=\"insert into score (姓名,座號,國文,數學)　values\n",
    "   ('李大毛','1',92,80)\"\n",
    "cursor.execute(sql)\n",
    "##\n",
    "sql1=\"select * from score\"\n",
    "cursor.execute(sql1)\n",
    "data=cursor.fetchall()\n",
    "print('全部資料:')\n",
    "print(data)\n",
    "\n",
    "sql2=\"update score set 國文=98 where 座號='%s'\" % ('4')\n",
    "cursor.execute(sql2)\n",
    "cursor.execute(sql1)\n",
    "data=cursor.fetchall()\n",
    "print('修改後資料:')\n",
    "print(data)\n",
    "\n",
    "sql3=\"delete from score where 座號='%s'\" % ('6')\n",
    "cursor.execute(sql3)\n",
    "cursor.execute(sql1)\n",
    "data=cursor.fetchall()\n",
    "print(' 刪除後資料:')\n",
    "print(data)"
   ]
  },
  {
   "cell_type": "code",
   "execution_count": null,
   "metadata": {},
   "outputs": [],
   "source": [
    "##SQLite資料庫管理帳號密碼\n",
    "def menu():\n",
    "    os.system(\"cls\")\n",
    "    print(\"帳號密碼管理系統\")\n",
    "    print(\"=================\")\n",
    "    print(\"1.輸入帳號密碼\")\n",
    "    print(\"2.顯示帳號密碼\")\n",
    "    print(\"3.修改密碼\")\n",
    "    print(\"4.刪除帳號密碼\")\n",
    "    print(\"0.結束程式\")\n",
    "    print(\"-----------------\")\n",
    "    \n",
    "def disp_data():\n",
    "    cursor=conn.execute('select * from password')\n",
    "    print(\" 帳號\\t密碼\")\n",
    "    print(\"==============\")\n",
    "    for row in cursor:\n",
    "        print(\"{}\\t{}\".format(row[0],row[1]))\n",
    "    input(\"案任意鍵返回主選單\")\n",
    "def input_data():\n",
    "    while True:\n",
    "        name=input(\"請輸入帳號(Enter===>停止輸入)\")\n",
    "        if name==\"\":break\n",
    "        sqlstr=\"select * from password where name={}\".format(name)\n",
    "        cursor=conn.execute(sqlstr)\n",
    "        row=cursor.fetchall()\n",
    "        if not row==None:\n",
    "            print(\"{}帳號已存在!\".format(name))\n",
    "            continue\n",
    "        password=input(\"請輸入密碼:\")\n",
    "        sqlstr=\"insert into password             values('{}','{}');\".format(name,password)\n",
    "        conn.execute(sqlstr)\n",
    "        conn.commit()\n",
    "        print(\"{}已儲存完畢\".format(name))\n",
    "def edit_data():\n",
    "    while True:\n",
    "        name=input(\"請輸入要修改的帳號(Enter===>停止輸入)\")\n",
    "        if name=\"\" break\n",
    "        sqlstr=\"select * from password where name={}\".format(name)\n",
    "        cursor=conn.execute(sqlstr)\n",
    "        row=cursor.fetchone()\n",
    "        print(row)\n",
    "        if row==None:\n",
    "            print(\"{}帳號不存在!\".format(name))\n",
    "            continue\n",
    "        print(\"原來密碼為:{}\".format(row[1]))\n",
    "        password=input(\"請輸入新密碼:\")\n",
    "        sqlstr=\"update password set pass='{}'           where name='{}'\".format(password,name)\n",
    "        conn.execute(sqlstr)\n",
    "        conn.commit()\n",
    "        input(\"密碼更新完畢,請按任意鍵返回主選單\")\n",
    "        break\n",
    "def delete_data():\n",
    "    while True:\n",
    "        name=input(\"請輸入要刪除的帳號(Enter==>停止輸入)\")\n",
    "        if name==\"\":break\n",
    "        sqlstr=\"select * from password where name='{}'\".format(name)\n",
    "        cursor=conn.execute(sqlstr)\n",
    "        row=cursor.fetchone()\n",
    "        if row==None:\n",
    "            print(\"{}帳號不存在!\".format(name))\n",
    "            continue\n",
    "        print(\"確定刪除{}的資料\".format(name))\n",
    "        yn=input(\"(Y/N)\")\n",
    "        IF (YN=\"Y\" or yn=\"y\"):\n",
    "            sqlstr=\"delete from password              where name='{}'\".format(name)\n",
    "            conn.execute(sqlstr)\n",
    "            conn.commit()\n",
    "            input(\"已刪除完畢,請按任意鍵返回主選單\")\n",
    "            break\n",
    "import os,sqlite3\n",
    "conn=sqlite3.connect('Sqlite01.sqlite')\n",
    "while True:\n",
    "    menu()\n",
    "    choice=int(input(\"請輸入您的選擇:\"))\n",
    "    print()\n",
    "    if choice==1:\n",
    "        input_data()\n",
    "    elif choice==2:\n",
    "        disp_data()\n",
    "    elif choice==3:\n",
    "        delete_data()\n",
    "    else:\n",
    "        break\n",
    "conn.close()\n",
    "print(\"程式執行完畢!\")"
   ]
  },
  {
   "cell_type": "code",
   "execution_count": null,
   "metadata": {},
   "outputs": [],
   "source": [
    "import sqlite3,ast,hashlib,os,requests\n",
    "from bs4 import BeautifulSoup\n",
    "conn=sqlite3.connect('DataBasePM25.sqlite3') ##建立資料庫連線\n",
    "cursor=conn.cursor()\n",
    "sqlstr=\"\"\"\n",
    "CREATE TABLE IF NOT EXISTS TablePM2.5 (\"no\"\n",
    "  INTERGER PRIMARY KEY AUTOINCREMENT\n",
    "  NOT NULL UNIQUE,\"iteName\" TEXT NOT NULL ,\"PM2.5\" INTEGER)\n",
    "\"\"\"\n",
    "cursor.execute(sqlstr)\n",
    "url=\"http://opendata.epa.gov.tw/ws/Data/REWXQA/?\\$orderby=SiteName&$top=1000&format=json\"\n",
    "html=requests.get(url).text.encode('utf-8-sig')\n",
    "md5=hashlib.md5(html).hexdigest()\n",
    "old_md5=\"\"\n",
    "if os.path.exists('old_md5.txt'):\n",
    "    with open('old_md5.txt','r') as f:\n",
    "        old_md5=f.read()\n",
    "with open('old_md5.txt','w') as f:\n",
    "    f.write(old_md5)\n",
    "if md5!=old_md5:\n",
    "    print('資料已更新...')\n",
    "    sp=BeautifulSoup(html,'html.parser')\n",
    "    jsondata=ast.literal_eval(sp.text)\n",
    "    conn.execute(\"delete from TablePM25\")\n",
    "    conn.commit()\n",
    "    \n",
    "    n=1\n",
    "    for site in  jsondata:\n",
    "        SiteName=site[\"SiteName\"]\n",
    "        PM25=0 if site[\"PM2.5\"]==\"\" else int(site[\"PM2.5\"])\n",
    "        print(\"站名:{}   PM2.5:{}\".format(SiteName,PM25))\n",
    "    \n",
    "    sqlstr=\"insert into TablePM25\n",
    "      values({},'{}',{})\".format(n,SiteName,PM25)\n",
    "    cursor.execute(sqlstr)\n",
    "    n+=1\n",
    "    conn.commit()\n",
    "else:\n",
    "    print('資料未更新,從資料庫讀取...')\n",
    "    cursor=conn.execute(\"select * from TablePM25\")\n",
    "    row=cursor.fetchall()\n",
    "    for row in rows:\n",
    "        print(\"站名:{}  PM2.5={}\".format(row[1],row[2]))\n",
    "\n",
    "conn.close()\n",
    "##PM2.5自動排成下載\n",
    "import sqlite3,ast,requests,os\n",
    "from bs4 import BeautifulSoup\n",
    "cur_path=os.path.dirname(_file_)\n",
    "conn=sqlite3.connect(cur_path+'/'+'DateBasePM25.sqlite')\n",
    "cursor=conn.cursor()\n",
    "sqlstr=\"\"\"\n",
    "CREATE TABLE IF NOT EXISTS TablePM2.5 (\"no\"\n",
    "  INTERGER PRIMARY KEY AUTOINCREMENT\n",
    "  NOT NULL UNIQUE,\"iteName\" TEXT NOT NULL ,\"PM2.5\" INTEGER)\n",
    "\"\"\"\n",
    "cursor.execute(sqlstr)\n",
    "url=\"http://opendata.epa.gov.tw/ws/Data/REWXQA/?\\$orderby=SiteName&$top=1000&format=json\"\n",
    "html=requests.get(url).text.encode('utf-8-sig')\n",
    "    print('資料已更新...')\n",
    "    sp=BeautifulSoup(html,'html.parser')\n",
    "    jsondata=ast.literal_eval(sp.text)\n",
    "    conn.execute(\"delete from TablePM25\")\n",
    "    conn.commit()\n",
    "    \n",
    "    n=1\n",
    "    for site in jsondata:\n",
    "        SiteName=site[\"SiteName\"]\n",
    "        PM25=0 if site[\"PM2.5\"]==\"\" else int(site[\"PM2.5\"])\n",
    "        print(\"站名:{}   PM2.5:{}\".format(SiteName,PM25))\n",
    "    \n",
    "    sqlstr=\"insert into TablePM25\n",
    "      values({},'{}',{})\".format(n,SiteName,PM25)\n",
    "    cursor.execute(sqlstr)\n",
    "    n+=1\n",
    "    conn.commit()\n",
    "\n",
    "conn.close()\n"
   ]
  },
  {
   "cell_type": "markdown",
   "metadata": {},
   "source": [
    "## 將python打包成執行檔"
   ]
  },
  {
   "cell_type": "code",
   "execution_count": null,
   "metadata": {},
   "outputs": [],
   "source": [
    "pip install https://github.com/pyinstaller/pyinstaller/archive/develop.zip\n",
    "##onedir方式(將製作出的檔案放在同一個目錄下)\n",
    "pyinstaller 應用程式\n",
    "pyinstaller Hello.py\n",
    "##onefile方式(加上-F參數將製作出的檔案包裝成一個獨立的exe執行檔)\n",
    "pyinstaller -F 應用程式\n",
    "pyinstaller -F Hello.py"
   ]
  },
  {
   "cell_type": "markdown",
   "metadata": {},
   "source": [
    "## 解壓縮資料"
   ]
  },
  {
   "cell_type": "markdown",
   "metadata": {},
   "source": [
    "## urllib.request.urlopen:.read"
   ]
  },
  {
   "cell_type": "markdown",
   "metadata": {},
   "source": [
    "## urllib.request.urlretrieve(res,\"F-D0047-093.zip\")"
   ]
  },
  {
   "cell_type": "markdown",
   "metadata": {},
   "source": [
    "## zipfile.ZipFile:f.extractall(\".\", pwd = \"1234), read"
   ]
  },
  {
   "cell_type": "markdown",
   "metadata": {},
   "source": [
    "## gzip.gzipFile:read"
   ]
  },
  {
   "cell_type": "code",
   "execution_count": null,
   "metadata": {},
   "outputs": [],
   "source": [
    "import urllib #urllib2.urlopen \n",
    "\n",
    "import zipfile #zipfile.ZipFile\n",
    "\n",
    "\n",
    "def DownloadTWCompany():\n",
    "    # 檔案下載\n",
    "    downloadurl = urllib.request.urlopen('https://opendata.cwb.gov.tw/fileapi/v1/opendataapi/F-D0047-093?Authorization=rdec-key-123-45678-011121314&format=ZIP')\n",
    "    zipcontent= downloadurl.read()\n",
    "    with open(\"weather.zip\",'wb') as f:\n",
    "        f.write(zipcontent)\n",
    "    print(\"下載完成!\")\n",
    "    \n",
    "    # 解壓縮檔案\n",
    "\n",
    "    print(\"資料解壓縮...\")\n",
    "with zipfile.ZipFile(open('F-D0047-093.zip', 'rb')) as f:\n",
    "    f.extractall(\".\", pwd = \"1234\")  # 解壓縮密碼1234\n",
    "\n",
    "    \n",
    "    print(\"解壓縮完成!\")\n",
    "\n",
    "DownloadTWCompany()\n",
    "\n",
    "##gz檔\n",
    "import gzip\n",
    "\n",
    "url='https://opendata.cwb.gov.tw/fileapi/v1/opendataapi/F-D0047-093?Authorization=rdec-key-123-45678-011121314&format=ZIP'\n",
    "url = urllib.request.urlopen(url)\n",
    "zipcontent =url.read()\n",
    "zipcontent\n",
    "with open(\"F-D0047-093.gz\", 'wb') as f:\n",
    "    f.write(zipcontent)\n",
    "print(\"下載完成!\")\n",
    "\n",
    "jdata = gzip.gzipFile('F-D0047-093.gz', 'rb').read()\n",
    "jdata=jdata.decode(\"utf-8\")\n",
    "jdata\n",
    "\n",
    "import zipfile\n",
    "with zipfile.ZipFile('F-D0047-093.gz', 'r') as zf:\n",
    "    file=zf.read('63_72hr_CH.xml')\n",
    "file=file.decode(\"utf-8\")\n",
    "\n",
    "\n",
    "res =\"http://opendata.cwb.gov.tw/opendataapi?dataid=F-D0047-093&authorizationkey=CWB-3FB0188A-5506-41BE-B42A-3785B42C3823\"\n",
    "urllib.request.urlretrieve(res,\"F-D0047-093.zip\")\n",
    "f=zipfile.ZipFile('F-D0047-093.zip')\n",
    "\n",
    "data = f.read('63_72hr_CH.xml').decode('utf8')"
   ]
  },
  {
   "cell_type": "markdown",
   "metadata": {},
   "source": [
    "## 處理xml檔"
   ]
  },
  {
   "cell_type": "markdown",
   "metadata": {},
   "source": [
    "## parse(.getElementsByTagName, .documentElement)"
   ]
  },
  {
   "cell_type": "code",
   "execution_count": null,
   "metadata": {},
   "outputs": [],
   "source": [
    "from xml.dom.minidom import parse\n",
    "doc = parse(\"C:/Users/a2279/Downloads/GetVD.xml\")\n",
    "##獲得標籤值\n",
    "d=doc.getElementsByTagName(\"vd:ExchangeTime\")\n",
    "d[0].firstChild.data\n",
    "d=doc.getElementsByTagName(\"vd:SectionName\")\n",
    "len(d)\n",
    "d[0].firstChild.data\n",
    "d[1].firstChild.data\n",
    "##獲得標籤屬性\n",
    "d[0].getAttribute(\"username\")\n",
    "\n",
    "\n",
    "cc=doc.getElementsByTagName('caption')\n",
    "c1=cc[0]\n",
    "print(c1.firstChild.data)\n",
    "\n",
    "root = doc.documentElement\n",
    "\n",
    "print(root.nodeName)\n",
    "\n",
    "print(root.nodeValue)\n",
    "\n",
    "print(root.nodeType)\n",
    "print(root.ELEMENT_NODE)"
   ]
  },
  {
   "cell_type": "code",
   "execution_count": null,
   "metadata": {},
   "outputs": [],
   "source": []
  }
 ],
 "metadata": {
  "kernelspec": {
   "display_name": "Python 3",
   "language": "python",
   "name": "python3"
  },
  "language_info": {
   "codemirror_mode": {
    "name": "ipython",
    "version": 3
   },
   "file_extension": ".py",
   "mimetype": "text/x-python",
   "name": "python",
   "nbconvert_exporter": "python",
   "pygments_lexer": "ipython3",
   "version": "3.7.3"
  }
 },
 "nbformat": 4,
 "nbformat_minor": 2
}
